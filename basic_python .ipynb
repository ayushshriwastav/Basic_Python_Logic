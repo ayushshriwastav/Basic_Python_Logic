{
 "cells": [
  {
   "cell_type": "code",
   "execution_count": 1,
   "id": "e628d121",
   "metadata": {},
   "outputs": [
    {
     "name": "stdout",
     "output_type": "stream",
     "text": [
      "Enter the first number : 10\n",
      "Enter the second number : 20\n",
      "the addition is :  30\n"
     ]
    }
   ],
   "source": [
    "a = int(input(\"Enter the first number : \"))\n",
    "b = int(input(\"Enter the second number : \"))\n",
    "c = a+b\n",
    "print(\"the addition is : \", c)"
   ]
  },
  {
   "cell_type": "code",
   "execution_count": 10,
   "id": "e3b5b77a",
   "metadata": {},
   "outputs": [
    {
     "name": "stdout",
     "output_type": "stream",
     "text": [
      "Enter three number : 10,20,30\n",
      "the addition is :  60\n"
     ]
    }
   ],
   "source": [
    "a,b,c = map(int, input(\"Enter three number : \").split(','))\n",
    "c = a+b+c\n",
    "print(\"the addition is : \", c)"
   ]
  },
  {
   "cell_type": "code",
   "execution_count": 15,
   "id": "26c00472",
   "metadata": {},
   "outputs": [
    {
     "name": "stdout",
     "output_type": "stream",
     "text": [
      "Enter the first number : 10\n",
      "Enter the second number : 20\n",
      "the addition of 10 and 20 is 30: \n"
     ]
    }
   ],
   "source": [
    "a = int(input(\"Enter the first number : \"))\n",
    "b = int(input(\"Enter the second number : \"))\n",
    "c = a+b\n",
    "print(\"the addition of %d and %d is %d: \" %(a,b,c))"
   ]
  },
  {
   "cell_type": "code",
   "execution_count": 18,
   "id": "4e0a6de0",
   "metadata": {},
   "outputs": [
    {
     "name": "stdout",
     "output_type": "stream",
     "text": [
      "Name is Ayush , rollno is 1234 and age is 28 \n"
     ]
    }
   ],
   "source": [
    "Name = \"Ayush\"\n",
    "rollno = 1234\n",
    "age = 28\n",
    "str = \"Name is {} , rollno is {} and age is {} \"\n",
    "print(str.format(Name,rollno,age))"
   ]
  },
  {
   "cell_type": "code",
   "execution_count": null,
   "id": "4f59087e",
   "metadata": {},
   "outputs": [],
   "source": [
    "#Operators \n",
    "#list of operators \n",
    "#1. Unary Operator -> minimum requirement one operand \n",
    "#2. Binary Operator -> minimum requirement two operand\n",
    "#3. Ternary Operator -> conditional operand\n",
    "\n",
    "\n",
    "#Types of Operators\n",
    "#1. Arithmatic Operator -> + - * / // % **\n",
    "#2. Relational Operator -> < > <= >= == !=\n",
    "#3. Logical Operator -> and or not \n",
    "#4. conditional Operator -> if else\n",
    "#5. Assignment Operator\n",
    "#6. Bitwise Operator\n",
    "#7. Arithmetic Assignment Operator\n",
    "#7. Identity Operator\n",
    "#8. Membership Operator"
   ]
  },
  {
   "cell_type": "code",
   "execution_count": 4,
   "id": "6a1af933",
   "metadata": {},
   "outputs": [
    {
     "name": "stdout",
     "output_type": "stream",
     "text": [
      "DataDataData\n",
      "7.0\n",
      "7\n",
      "2\n",
      "1\n",
      "0\n"
     ]
    }
   ],
   "source": [
    "#arithmetic operator\n",
    "type(print(\"Data\"*3))\n",
    "print(14/2)\n",
    "print(15//2) # // -> floor division\n",
    "print(True+True)\n",
    "print(True+False)\n",
    "print(False+False)\n"
   ]
  },
  {
   "cell_type": "code",
   "execution_count": 6,
   "id": "24a31a9f",
   "metadata": {},
   "outputs": [
    {
     "name": "stdout",
     "output_type": "stream",
     "text": [
      "True\n",
      "True\n",
      "True\n"
     ]
    }
   ],
   "source": [
    "# relational operator\n",
    "a = 10\n",
    "b = 10\n",
    "c = 10\n",
    "print(a==b)\n",
    "print(a==b==c)\n",
    "x = 15 \n",
    "y = 5\n",
    "z = 10\n",
    "w = (x<y) == (y>z)\n",
    "print(w)"
   ]
  },
  {
   "cell_type": "code",
   "execution_count": 11,
   "id": "bc2d59bc",
   "metadata": {},
   "outputs": [
    {
     "name": "stdout",
     "output_type": "stream",
     "text": [
      "Enter the number : 3 4 1\n",
      "greater is :  4\n",
      "lowest is :  1\n"
     ]
    }
   ],
   "source": [
    "#conditional operator -> if else \n",
    "a,b,c = map(int, input(\"Enter the number : \").split())\n",
    "print(\"greater is \",a) if(a>b and a>c) else print(\"greater is : \",b) if(b>c) else print(\"greater is : \", c)\n",
    "print(\"lowest is \",a) if(a<b and a<c) else print(\"lowest is : \",b) if(b<c) else print(\"lowest is : \", c)"
   ]
  },
  {
   "cell_type": "code",
   "execution_count": null,
   "id": "2c16f9b0",
   "metadata": {},
   "outputs": [],
   "source": []
  },
  {
   "cell_type": "code",
   "execution_count": null,
   "id": "57118a70",
   "metadata": {},
   "outputs": [],
   "source": []
  }
 ],
 "metadata": {
  "kernelspec": {
   "display_name": "Python 3 (ipykernel)",
   "language": "python",
   "name": "python3"
  },
  "language_info": {
   "codemirror_mode": {
    "name": "ipython",
    "version": 3
   },
   "file_extension": ".py",
   "mimetype": "text/x-python",
   "name": "python",
   "nbconvert_exporter": "python",
   "pygments_lexer": "ipython3",
   "version": "3.9.13"
  }
 },
 "nbformat": 4,
 "nbformat_minor": 5
}
